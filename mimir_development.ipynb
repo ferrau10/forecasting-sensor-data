{
 "cells": [
  {
   "cell_type": "markdown",
   "metadata": {},
   "source": [
    "# Development Notebook for Mimir\n",
    "* POC looking at querying firebase and implementing a radar mode.\n",
    "* Looking to successfully query Firebase via the API.\n",
    "* Think about how the data coming in should be formatted.\n",
    "* How should the results be displayed?"
   ]
  },
  {
   "cell_type": "markdown",
   "metadata": {},
   "source": [
    "## Radar Mode Flow\n",
    "1. When performing a Radar Mode request - let's say for instance a user is on the app and say I request a Radar Mode report for sensor 1.\n",
    "2. This now fires off a GET request to our API.\n",
    "3. From the request we should receive a UNIQUE DEVICE ID.\n",
    "4. Can now query the sensor data table in order to get the latest sensor reading.\n",
    "5. Request should also include a plant ID - used to look up in the plant data table and retrieve data\n",
    "6. Peform the analysis and return data to the user"
   ]
  },
  {
   "cell_type": "markdown",
   "metadata": {},
   "source": [
    "* _Data is currently in the wrong form_ :\n",
    "\n",
    "userInfo\n",
    "deviceId\n",
    "\"P4006\"\n",
    "ipAddress\n",
    "\"62.203.6.17\"\n",
    "macAddress\n",
    "\"24:6F:28:B1:DC:D8\"\n",
    "userId\n",
    "\"Desk Top\"\n",
    "userName\n",
    "\"Lloyd\"\n",
    "version\n",
    "\"P2004.11C\"\n",
    "\n",
    "* We do have a deviceId - not sure if this is unique - so will use this for now."
   ]
  },
  {
   "cell_type": "markdown",
   "metadata": {},
   "source": [
    "## 1. Obtain Correct Sensor Data"
   ]
  },
  {
   "cell_type": "code",
   "execution_count": 1,
   "metadata": {},
   "outputs": [],
   "source": [
    "# Example - get all readings for a certain user/ device\n",
    "import requests\n",
    "import json\n",
    "from pprint import pprint\n",
    "\n",
    "# Receive a Radar Mode Request from a User\n",
    "# They will have to select a device and a plant that they want a reading for\n",
    "deviceId = \"P4006\" # should be unique\n",
    "userId = \"xyz\" # would ordinarily get a user ID as well\n",
    "\n",
    "# They would say which species they are performing the analysis for\n",
    "plant_species = \"aloe vera\" # would normally be a plant ID\n",
    "\n",
    "# Build up a URL for request\n",
    "base_url = \"https://firestore.googleapis.com/v1/projects/mimirhome-app/databases/(default)/documents/\"\n",
    "\n",
    "# Get the relevant sensor data\n",
    "sensor_data = requests.get(base_url + \"sensorData/\").text\n",
    "\n",
    "# Obtain in json format\n",
    "sensor_json = json.loads(sensor_data)\n",
    "\n",
    "# Obtain all entries that match the deviceId\n",
    "device_data = [s for s in sensor_json['documents'] if s['fields']['userInfo']['mapValue']['fields']['deviceId']['stringValue'] == deviceId]"
   ]
  },
  {
   "cell_type": "code",
   "execution_count": 2,
   "metadata": {},
   "outputs": [
    {
     "data": {
      "text/plain": [
       "[{'name': 'projects/mimirhome-app/databases/(default)/documents/sensorData/00ebE6UhN4wVIJeMU8Az',\n",
       "  'fields': {'status': {'mapValue': {'fields': {'WiFI_Status': {'integerValue': '1'},\n",
       "      'MicroSD_Status': {'integerValue': '1'},\n",
       "      'WiFi_Signal': {'integerValue': '-59'},\n",
       "      'Battery_Percent': {'integerValue': '-6'},\n",
       "      'Date': {'stringValue': '2020-05-31'},\n",
       "      'Time': {'stringValue': '15:30:44'},\n",
       "      'Sensors_Status': {'integerValue': '1'},\n",
       "      'Battery_Status': {'integerValue': '0'},\n",
       "      'Server_Status': {'integerValue': '1'}}}},\n",
       "   'userInfo': {'mapValue': {'fields': {'userId': {'stringValue': 'Desk Top'},\n",
       "      'version': {'stringValue': 'P2004.11C'},\n",
       "      'ipAddress': {'stringValue': '62.203.6.17'},\n",
       "      'macAddress': {'stringValue': '24:6F:28:B1:DC:D8'},\n",
       "      'deviceId': {'stringValue': 'P4006'},\n",
       "      'userName': {'stringValue': 'Lloyd'}}}},\n",
       "   'data': {'mapValue': {'fields': {'VOC(CCS811)': {'integerValue': '194'},\n",
       "      'Humidity(SHT31_L)': {'doubleValue': 24.97},\n",
       "      'Altitude(BMP280)': {'doubleValue': 969.3142},\n",
       "      'Temperature(SHT31_H)': {'doubleValue': 24.66},\n",
       "      'Luminance(VEML6030)': {'integerValue': '1377'},\n",
       "      'UVIndex(VEML6075)': {'doubleValue': 0.057497},\n",
       "      'Temperature(SHT31_L)': {'doubleValue': 24.82},\n",
       "      'UVB(VEML6075)': {'doubleValue': 31.85},\n",
       "      'eCO2(CCS811)': {'integerValue': '1533'},\n",
       "      'Pressure(BMP280)': {'doubleValue': 969.3142},\n",
       "      'Humidity(SHT31_H)': {'doubleValue': 24.85},\n",
       "      'Temperature(bmp280)': {'doubleValue': 26.12},\n",
       "      'UVA(VEML6075)': {'doubleValue': 67.67},\n",
       "      'Bearing(Compass)': {'integerValue': '135'}}}},\n",
       "   'timestamp': {'integerValue': '1590931847726'}},\n",
       "  'createTime': '2020-05-31T13:30:47.840863Z',\n",
       "  'updateTime': '2020-05-31T13:30:47.840863Z'},\n",
       " {'name': 'projects/mimirhome-app/databases/(default)/documents/sensorData/04RJS7GERbCg6YzZqF2Q',\n",
       "  'fields': {'timestamp': {'integerValue': '1590568246459'},\n",
       "   'status': {'mapValue': {'fields': {'Sensors_Status': {'integerValue': '1'},\n",
       "      'MicroSD_Status': {'integerValue': '1'},\n",
       "      'WiFI_Status': {'integerValue': '1'},\n",
       "      'Date': {'stringValue': '2020-05-27'},\n",
       "      'Battery_Percent': {'integerValue': '92'},\n",
       "      'Battery_Status': {'integerValue': '2'},\n",
       "      'Server_Status': {'integerValue': '1'},\n",
       "      'WiFi_Signal': {'integerValue': '-63'},\n",
       "      'Time': {'stringValue': '10:30:42'}}}},\n",
       "   'data': {'mapValue': {'fields': {'Luminance(VEML6030)': {'integerValue': '693'},\n",
       "      'Pressure(BMP280)': {'doubleValue': 982.4601},\n",
       "      'Altitude(BMP280)': {'doubleValue': 982.4601},\n",
       "      'UVB(VEML6075)': {'doubleValue': 25.9},\n",
       "      'eCO2(CCS811)': {'integerValue': '1902'},\n",
       "      'UVA(VEML6075)': {'doubleValue': 43.49},\n",
       "      'Temperature(SHT31_L)': {'doubleValue': 24.89},\n",
       "      'Temperature(SHT31_H)': {'doubleValue': 24.8},\n",
       "      'VOC(CCS811)': {'integerValue': '588'},\n",
       "      'Humidity(SHT31_L)': {'doubleValue': 35.84},\n",
       "      'Humidity(SHT31_H)': {'doubleValue': 35.48},\n",
       "      'Bearing(Compass)': {'integerValue': '90'},\n",
       "      'UVIndex(VEML6075)': {'doubleValue': 0.040346},\n",
       "      'Temperature(bmp280)': {'doubleValue': 26.23}}}},\n",
       "   'userInfo': {'mapValue': {'fields': {'ipAddress': {'stringValue': '62.203.6.17'},\n",
       "      'macAddress': {'stringValue': '24:6F:28:B1:DC:D8'},\n",
       "      'deviceId': {'stringValue': 'P4006'},\n",
       "      'version': {'stringValue': 'P2004.11C'},\n",
       "      'userId': {'stringValue': 'Desk Top'},\n",
       "      'userName': {'stringValue': 'Lloyd'}}}}},\n",
       "  'createTime': '2020-05-27T08:30:46.607679Z',\n",
       "  'updateTime': '2020-05-27T08:30:46.607679Z'}]"
      ]
     },
     "execution_count": 2,
     "metadata": {},
     "output_type": "execute_result"
    }
   ],
   "source": [
    "device_data"
   ]
  },
  {
   "cell_type": "code",
   "execution_count": 3,
   "metadata": {},
   "outputs": [],
   "source": [
    "# Now have device data in a list - find the most recent \n",
    "from datetime import datetime as dt\n",
    "\n",
    "ts = [dt.strptime(d['createTime'][:19], \"%Y-%m-%dT%H:%M:%S\") for d in device_data]  # 2020-05-27T08:30:46.607679Z\n",
    "\n",
    "# Currently just reading one datapoint although I think it would be good to use an\n",
    "# average depending on the frequency of the reads.\n",
    "\n",
    "read_data = device_data[ts.index(min(ts))]"
   ]
  },
  {
   "cell_type": "code",
   "execution_count": 4,
   "metadata": {},
   "outputs": [
    {
     "data": {
      "text/plain": [
       "{'name': 'projects/mimirhome-app/databases/(default)/documents/sensorData/04RJS7GERbCg6YzZqF2Q',\n",
       " 'fields': {'timestamp': {'integerValue': '1590568246459'},\n",
       "  'status': {'mapValue': {'fields': {'Sensors_Status': {'integerValue': '1'},\n",
       "     'MicroSD_Status': {'integerValue': '1'},\n",
       "     'WiFI_Status': {'integerValue': '1'},\n",
       "     'Date': {'stringValue': '2020-05-27'},\n",
       "     'Battery_Percent': {'integerValue': '92'},\n",
       "     'Battery_Status': {'integerValue': '2'},\n",
       "     'Server_Status': {'integerValue': '1'},\n",
       "     'WiFi_Signal': {'integerValue': '-63'},\n",
       "     'Time': {'stringValue': '10:30:42'}}}},\n",
       "  'data': {'mapValue': {'fields': {'Luminance(VEML6030)': {'integerValue': '693'},\n",
       "     'Pressure(BMP280)': {'doubleValue': 982.4601},\n",
       "     'Altitude(BMP280)': {'doubleValue': 982.4601},\n",
       "     'UVB(VEML6075)': {'doubleValue': 25.9},\n",
       "     'eCO2(CCS811)': {'integerValue': '1902'},\n",
       "     'UVA(VEML6075)': {'doubleValue': 43.49},\n",
       "     'Temperature(SHT31_L)': {'doubleValue': 24.89},\n",
       "     'Temperature(SHT31_H)': {'doubleValue': 24.8},\n",
       "     'VOC(CCS811)': {'integerValue': '588'},\n",
       "     'Humidity(SHT31_L)': {'doubleValue': 35.84},\n",
       "     'Humidity(SHT31_H)': {'doubleValue': 35.48},\n",
       "     'Bearing(Compass)': {'integerValue': '90'},\n",
       "     'UVIndex(VEML6075)': {'doubleValue': 0.040346},\n",
       "     'Temperature(bmp280)': {'doubleValue': 26.23}}}},\n",
       "  'userInfo': {'mapValue': {'fields': {'ipAddress': {'stringValue': '62.203.6.17'},\n",
       "     'macAddress': {'stringValue': '24:6F:28:B1:DC:D8'},\n",
       "     'deviceId': {'stringValue': 'P4006'},\n",
       "     'version': {'stringValue': 'P2004.11C'},\n",
       "     'userId': {'stringValue': 'Desk Top'},\n",
       "     'userName': {'stringValue': 'Lloyd'}}}}},\n",
       " 'createTime': '2020-05-27T08:30:46.607679Z',\n",
       " 'updateTime': '2020-05-27T08:30:46.607679Z'}"
      ]
     },
     "execution_count": 4,
     "metadata": {},
     "output_type": "execute_result"
    }
   ],
   "source": [
    "read_data"
   ]
  },
  {
   "cell_type": "markdown",
   "metadata": {},
   "source": [
    "## 2. Obtain Plant Data"
   ]
  },
  {
   "cell_type": "code",
   "execution_count": 7,
   "metadata": {},
   "outputs": [
    {
     "ename": "NameError",
     "evalue": "name 'name' is not defined",
     "output_type": "error",
     "traceback": [
      "\u001b[1;31m---------------------------------------------------------------------------\u001b[0m",
      "\u001b[1;31mNameError\u001b[0m                                 Traceback (most recent call last)",
      "\u001b[1;32m<ipython-input-7-04245ff4e9c0>\u001b[0m in \u001b[0;36m<module>\u001b[1;34m\u001b[0m\n\u001b[0;32m      1\u001b[0m \u001b[1;31m# Get the relevant sensor data\u001b[0m\u001b[1;33m\u001b[0m\u001b[1;33m\u001b[0m\u001b[1;33m\u001b[0m\u001b[0m\n\u001b[1;32m----> 2\u001b[1;33m \u001b[0mplant_data\u001b[0m \u001b[1;33m=\u001b[0m \u001b[0mrequests\u001b[0m\u001b[1;33m.\u001b[0m\u001b[0mget\u001b[0m\u001b[1;33m(\u001b[0m\u001b[0mbase_url\u001b[0m \u001b[1;33m+\u001b[0m \u001b[1;34m\"plants/\"\u001b[0m \u001b[1;33m+\u001b[0m \u001b[0mname\u001b[0m\u001b[1;33m)\u001b[0m\u001b[1;33m.\u001b[0m\u001b[0mtext\u001b[0m\u001b[1;33m\u001b[0m\u001b[1;33m\u001b[0m\u001b[0m\n\u001b[0m\u001b[0;32m      3\u001b[0m \u001b[0mplant_json\u001b[0m \u001b[1;33m=\u001b[0m \u001b[0mjson\u001b[0m\u001b[1;33m.\u001b[0m\u001b[0mloads\u001b[0m\u001b[1;33m(\u001b[0m\u001b[0mplant_data\u001b[0m\u001b[1;33m)\u001b[0m\u001b[1;33m\u001b[0m\u001b[1;33m\u001b[0m\u001b[0m\n\u001b[0;32m      4\u001b[0m \u001b[0mplant_json\u001b[0m\u001b[1;33m\u001b[0m\u001b[1;33m\u001b[0m\u001b[0m\n",
      "\u001b[1;31mNameError\u001b[0m: name 'name' is not defined"
     ]
    }
   ],
   "source": [
    "# Get the relevant sensor data\n",
    "plant_data = requests.get(base_url + \"plants/\" + pname).text\n",
    "plant_json = json.loads(plant_data)\n",
    "plant_json"
   ]
  },
  {
   "cell_type": "markdown",
   "metadata": {},
   "source": [
    "## 3. Perform Analysis"
   ]
  },
  {
   "cell_type": "code",
   "execution_count": 6,
   "metadata": {},
   "outputs": [],
   "source": [
    "import numpy\n",
    "import skfuzzy as fuzz"
   ]
  },
  {
   "cell_type": "code",
   "execution_count": 7,
   "metadata": {},
   "outputs": [
    {
     "name": "stdout",
     "output_type": "stream",
     "text": [
      "Ideal Ranges: \n",
      "\n",
      "{'max_env_humid': {'integerValue': '80'},\n",
      " 'max_light_lux': {'integerValue': '70000'},\n",
      " 'max_light_mmol': {'integerValue': '6400'},\n",
      " 'max_soil_ec': {'integerValue': '1000'},\n",
      " 'max_soil_moist': {'integerValue': '50'},\n",
      " 'max_temp': {'integerValue': '35'},\n",
      " 'min_env_humid': {'integerValue': '15'},\n",
      " 'min_light_lux': {'integerValue': '3000'},\n",
      " 'min_light_mmol': {'integerValue': '3200'},\n",
      " 'min_soil_ec': {'integerValue': '300'},\n",
      " 'min_soil_moist': {'integerValue': '7'},\n",
      " 'min_temp': {'integerValue': '8'}}\n",
      "Actual Readings : \n",
      "\n",
      "{'Altitude(BMP280)': {'doubleValue': 982.4601},\n",
      " 'Bearing(Compass)': {'integerValue': '90'},\n",
      " 'Humidity(SHT31_H)': {'doubleValue': 35.48},\n",
      " 'Humidity(SHT31_L)': {'doubleValue': 35.84},\n",
      " 'Luminance(VEML6030)': {'integerValue': '693'},\n",
      " 'Pressure(BMP280)': {'doubleValue': 982.4601},\n",
      " 'Temperature(SHT31_H)': {'doubleValue': 24.8},\n",
      " 'Temperature(SHT31_L)': {'doubleValue': 24.89},\n",
      " 'Temperature(bmp280)': {'doubleValue': 26.23},\n",
      " 'UVA(VEML6075)': {'doubleValue': 43.49},\n",
      " 'UVB(VEML6075)': {'doubleValue': 25.9},\n",
      " 'UVIndex(VEML6075)': {'doubleValue': 0.040346},\n",
      " 'VOC(CCS811)': {'integerValue': '588'},\n",
      " 'eCO2(CCS811)': {'integerValue': '1902'}}\n"
     ]
    }
   ],
   "source": [
    "ideal_dict = plant_json['fields']['parameter']['mapValue']['fields']\n",
    "actual_dict = read_data['fields']['data']['mapValue']['fields']\n",
    "print('Ideal Ranges: \\n')\n",
    "pprint(ideal_dict)\n",
    "print('Actual Readings : \\n')\n",
    "pprint(actual_dict)"
   ]
  },
  {
   "cell_type": "code",
   "execution_count": 55,
   "metadata": {},
   "outputs": [],
   "source": [
    "class EnvironmentalAnalysis():\n",
    "    \n",
    "    # Imports\n",
    "    import numpy as np\n",
    "    \n",
    "    def __init__(self, species):\n",
    "        \n",
    "        self.species = species # plant species\n",
    "    \n",
    "    @staticmethod\n",
    "    def rangeFunc(min, max, val):\n",
    "        \"\"\"\n",
    "        Class method to look at a value compared to its ideal range.\n",
    "\n",
    "        Args:\n",
    "            min (float): minimum value in the range.\n",
    "            max (float): maximum value in the range.\n",
    "            val (float): recorded value\n",
    "\n",
    "        Returns:\n",
    "            position (float): relative position between the extremes.\n",
    "\n",
    "        \"\"\"\n",
    "        # Get the relative postion of the value between the extremes\n",
    "        # If it is at the max then it will be 1\n",
    "        # If it is at the min then it will be 0\n",
    "        postion = (val - min)/(max - min)\n",
    "        return postion\n",
    "             \n",
    "        \n",
    "    def radarMode(self, ideal, actual):\n",
    "        \"\"\"\n",
    "        Class method to perform Radar Analysis mode\n",
    "\n",
    "        Args:\n",
    "            ideal (dict): Dictionary containing all the ideal conditions for the given species.\n",
    "            actual (dict): Sensor Readings for the actual environmental conditons.\n",
    "\n",
    "        Returns:   \n",
    "            result (dict): Dictionary containing the results of the radar analysis\n",
    "\n",
    "        \"\"\"\n",
    "    \n",
    "        # Create the extreme dictionary (sounds extreme)\n",
    "        extreme_dict = {}\n",
    "        extreme_dict['humidity'] = (int(ideal['min_env_humid']['integerValue']), int(ideal['max_env_humid']['integerValue']))\n",
    "        extreme_dict['temperature'] = (int(ideal['min_temp']['integerValue']), int(ideal['max_temp']['integerValue']))\n",
    "        extreme_dict['light'] = (int(ideal['min_light_lux']['integerValue']), int(ideal['max_light_lux']['integerValue']))\n",
    "        \n",
    "        print(extreme_dict)\n",
    "\n",
    "        # Create dictionary containing actual readings\n",
    "        reading_dict = {}\n",
    "        reading_dict['humidity'] = self.np.mean([actual['Humidity(SHT31_H)']['doubleValue'], actual['Humidity(SHT31_L)']['doubleValue']])\n",
    "        reading_dict['temperature']  = self.np.mean([actual['Temperature(SHT31_H)']['doubleValue'], actual['Temperature(SHT31_L)']['doubleValue']])\n",
    "        reading_dict['light'] = int(actual['Luminance(VEML6030)']['integerValue'])\n",
    "        \n",
    "        print(reading_dict)\n",
    "\n",
    "        # Get Results \n",
    "        result_dict = {}\n",
    "        for condition in ['humidity', 'temperature', 'light']:\n",
    "            result_dict[condition] = self.rangeFunc(extreme_dict[condition][0], extreme_dict[condition][1], reading_dict[condition])\n",
    "\n",
    "        return result_dict\n",
    "    \n",
    "    def natlangFeedback(self, result_dict):\n",
    "        \"\"\"\n",
    "        Class method to provide some natural language feedback given results\n",
    "        \n",
    "        Args:\n",
    "            result_dict (dict): Dictionary of results from an analysis mode.\n",
    "            \n",
    "        \"\"\"\n",
    "       \n",
    "        for k, v in result_dict.items():\n",
    "            if v <= 0:\n",
    "                print(f\"The {k} is dangerously low for {self.species}.\")\n",
    "            elif v > 0 and v <= 0.25:\n",
    "                print(f\"The {k} is very low for {self.species}.\")\n",
    "            elif v > 0.25 and v <= 0.75:\n",
    "                print(f\"The {k} is a good level for {self.species}.\")\n",
    "            elif v > 0.75 and v <= 1:\n",
    "                print(f\"The {k} is a very high for {self.species}.\")\n",
    "            else:\n",
    "                print(f\"The {k} is a dangerously high for {self.species}.\")                                         "
   ]
  },
  {
   "cell_type": "code",
   "execution_count": 56,
   "metadata": {},
   "outputs": [
    {
     "name": "stdout",
     "output_type": "stream",
     "text": [
      "{'humidity': (15, 80), 'temperature': (8, 35), 'light': (3000, 70000)}\n",
      "{'humidity': 35.66, 'temperature': 24.845, 'light': 693}\n",
      "{'humidity': 0.3178461538461538, 'temperature': 0.6238888888888888, 'light': -0.03443283582089552}\n"
     ]
    }
   ],
   "source": [
    "# Initialise a class\n",
    "analysis = EnvironmentalAnalysis(plant_species)\n",
    "results = analysis.radarMode(ideal_dict, actual_dict)\n",
    "print(results)"
   ]
  },
  {
   "cell_type": "code",
   "execution_count": 57,
   "metadata": {},
   "outputs": [
    {
     "name": "stdout",
     "output_type": "stream",
     "text": [
      "The humidity is a good level for aloe vera.\n",
      "The temperature is a good level for aloe vera.\n",
      "The light is dangerously low for aloe vera.\n"
     ]
    }
   ],
   "source": [
    "analysis.natlangFeedback(results)"
   ]
  },
  {
   "cell_type": "code",
   "execution_count": null,
   "metadata": {},
   "outputs": [],
   "source": []
  }
 ],
 "metadata": {
  "kernelspec": {
   "display_name": "Python 3",
   "language": "python",
   "name": "python3"
  },
  "language_info": {
   "codemirror_mode": {
    "name": "ipython",
    "version": 3
   },
   "file_extension": ".py",
   "mimetype": "text/x-python",
   "name": "python",
   "nbconvert_exporter": "python",
   "pygments_lexer": "ipython3",
   "version": "3.8.5"
  },
  "toc": {
   "base_numbering": 1,
   "nav_menu": {},
   "number_sections": true,
   "sideBar": true,
   "skip_h1_title": false,
   "title_cell": "Table of Contents",
   "title_sidebar": "Contents",
   "toc_cell": false,
   "toc_position": {},
   "toc_section_display": true,
   "toc_window_display": true
  },
  "varInspector": {
   "cols": {
    "lenName": 16,
    "lenType": 16,
    "lenVar": 40
   },
   "kernels_config": {
    "python": {
     "delete_cmd_postfix": "",
     "delete_cmd_prefix": "del ",
     "library": "var_list.py",
     "varRefreshCmd": "print(var_dic_list())"
    },
    "r": {
     "delete_cmd_postfix": ") ",
     "delete_cmd_prefix": "rm(",
     "library": "var_list.r",
     "varRefreshCmd": "cat(var_dic_list()) "
    }
   },
   "types_to_exclude": [
    "module",
    "function",
    "builtin_function_or_method",
    "instance",
    "_Feature"
   ],
   "window_display": true
  }
 },
 "nbformat": 4,
 "nbformat_minor": 4
}
